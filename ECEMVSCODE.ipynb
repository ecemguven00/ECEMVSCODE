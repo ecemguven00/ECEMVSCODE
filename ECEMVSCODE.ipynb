{
 "cells": [
  {
   "cell_type": "markdown",
   "metadata": {},
   "source": [
    "**ChatGPT is forbidden**"
   ]
  },
  {
   "cell_type": "markdown",
   "metadata": {},
   "source": [
    "**Data generation**"
   ]
  },
  {
   "cell_type": "markdown",
   "metadata": {},
   "source": [
    "Create and visualize arrays containing only real numbers, then integers, then strings, then a mix of integers and strings"
   ]
  },
  {
   "cell_type": "code",
   "execution_count": 2,
   "metadata": {},
   "outputs": [
    {
     "name": "stdout",
     "output_type": "stream",
     "text": [
      "['a' 'b' 'c']\n",
      "[1 2 3]\n",
      "[4 5 6]\n",
      "[0.1 0.2 0.3]\n",
      "['a' '2' '3']\n"
     ]
    }
   ],
   "source": [
    "import numpy as np\n",
    "x=np.array([1,2,3])\n",
    "y=np.array([4,5,6])\n",
    "print(np.array([\"a\",\"b\",\"c\"]))\n",
    "print(np.array([1,2,3]))\n",
    "print(np.array([4,5,6]))\n",
    "print(np.array([.1,.2,.3]))\n",
    "mixed_array = np.array([\"a\", 2, 3])\n",
    "print(mixed_array)\n",
    "\n"
   ]
  },
  {
   "cell_type": "markdown",
   "metadata": {},
   "source": [
    "Add two arrays made of integers, element by element (the two arrays must be the same size)"
   ]
  },
  {
   "cell_type": "code",
   "execution_count": 12,
   "metadata": {},
   "outputs": [
    {
     "data": {
      "text/plain": [
       "array([5, 7, 9])"
      ]
     },
     "execution_count": 12,
     "metadata": {},
     "output_type": "execute_result"
    }
   ],
   "source": [
    "x+y"
   ]
  },
  {
   "cell_type": "markdown",
   "metadata": {},
   "source": [
    "Create a 3*3 array including only zeros on the first line, then 1s on the second line, then the number 5 on the third line"
   ]
  },
  {
   "cell_type": "code",
   "execution_count": 15,
   "metadata": {},
   "outputs": [
    {
     "data": {
      "text/plain": [
       "array([[0, 0, 0],\n",
       "       [1, 1, 1],\n",
       "       [3, 3, 3]])"
      ]
     },
     "execution_count": 15,
     "metadata": {},
     "output_type": "execute_result"
    }
   ],
   "source": [
    "z=np.array([[0,0,0],\n",
    "            [1,1,1],\n",
    "            [3,3,3]])\n",
    "z"
   ]
  },
  {
   "cell_type": "markdown",
   "metadata": {},
   "source": [
    "Extract the shape attribute from this array"
   ]
  },
  {
   "cell_type": "code",
   "execution_count": 16,
   "metadata": {},
   "outputs": [
    {
     "name": "stdout",
     "output_type": "stream",
     "text": [
      "(3, 3)\n"
     ]
    }
   ],
   "source": [
    "print(z.shape)"
   ]
  },
  {
   "cell_type": "markdown",
   "metadata": {},
   "source": [
    "Create an array of 3 by 3 by 3 including only real numbers chosen from a normal distribution"
   ]
  },
  {
   "cell_type": "code",
   "execution_count": 4,
   "metadata": {},
   "outputs": [
    {
     "name": "stdout",
     "output_type": "stream",
     "text": [
      "[[[ 1.26456831 -0.48055146 -1.16248077]\n",
      "  [-0.01769668  1.36697343 -1.00590084]\n",
      "  [-1.30754494 -0.48441067 -1.39691296]]\n",
      "\n",
      " [[ 1.45605242  0.56929244  0.38995676]\n",
      "  [-0.4478383  -0.87229282 -0.72166974]\n",
      "  [ 0.28531631  0.34927861 -0.13407267]]\n",
      "\n",
      " [[-0.58256289  0.02386471  1.17071079]\n",
      "  [ 0.90592298  0.19643843  1.29519651]\n",
      "  [ 0.10240098 -2.15838624  0.36357735]]]\n"
     ]
    }
   ],
   "source": [
    "print(np.random.normal(size=(3, 3, 3)))"
   ]
  },
  {
   "cell_type": "markdown",
   "metadata": {},
   "source": [
    "Create a vector comprising 7 equally spaced values, between 2 and 3"
   ]
  },
  {
   "cell_type": "code",
   "execution_count": 44,
   "metadata": {},
   "outputs": [
    {
     "data": {
      "text/plain": [
       "array([2.        , 2.16666667, 2.33333333, 2.5       , 2.66666667,\n",
       "       2.83333333, 3.        ])"
      ]
     },
     "execution_count": 44,
     "metadata": {},
     "output_type": "execute_result"
    }
   ],
   "source": [
    "import random\n",
    "x=np.linspace(2,3,7)\n",
    "x\n"
   ]
  },
  {
   "cell_type": "code",
   "execution_count": 45,
   "metadata": {},
   "outputs": [
    {
     "data": {
      "text/plain": [
       "(7,)"
      ]
     },
     "execution_count": 45,
     "metadata": {},
     "output_type": "execute_result"
    }
   ],
   "source": [
    "x.shape"
   ]
  },
  {
   "cell_type": "markdown",
   "metadata": {},
   "source": [
    "Use the choice function  to sample 5 values ​​from this last vector, once with replacement, and once without replacement"
   ]
  },
  {
   "cell_type": "code",
   "execution_count": 47,
   "metadata": {},
   "outputs": [
    {
     "data": {
      "text/plain": [
       "array([2.        , 3.        , 2.5       , 3.        , 2.66666667])"
      ]
     },
     "execution_count": 47,
     "metadata": {},
     "output_type": "execute_result"
    }
   ],
   "source": [
    "sample1 =np.random.choice(x, size=5, replace=True)\n",
    "sample1"
   ]
  },
  {
   "cell_type": "code",
   "execution_count": 48,
   "metadata": {},
   "outputs": [
    {
     "data": {
      "text/plain": [
       "array([2.83333333, 2.66666667, 2.16666667, 2.5       , 2.33333333])"
      ]
     },
     "execution_count": 48,
     "metadata": {},
     "output_type": "execute_result"
    }
   ],
   "source": [
    "sample2 = np.random.choice(x, size=5, replace=False)\n",
    "sample2\n",
    "\n"
   ]
  },
  {
   "cell_type": "markdown",
   "metadata": {},
   "source": [
    "Create a vector corresponding to a sequence of numbers, from 13 to 19, counting in steps of one"
   ]
  },
  {
   "cell_type": "code",
   "execution_count": 26,
   "metadata": {},
   "outputs": [
    {
     "data": {
      "text/plain": [
       "array([13, 14, 15, 16, 17, 18, 19])"
      ]
     },
     "execution_count": 26,
     "metadata": {},
     "output_type": "execute_result"
    }
   ],
   "source": [
    "my_vector = np.arange(13, 20, 1)\n",
    "my_vector"
   ]
  },
  {
   "cell_type": "markdown",
   "metadata": {},
   "source": [
    "Create a 5*5 identity matrix"
   ]
  },
  {
   "cell_type": "code",
   "execution_count": 5,
   "metadata": {},
   "outputs": [
    {
     "data": {
      "text/plain": [
       "array([[1., 0., 0., 0., 0.],\n",
       "       [0., 1., 0., 0., 0.],\n",
       "       [0., 0., 1., 0., 0.],\n",
       "       [0., 0., 0., 1., 0.],\n",
       "       [0., 0., 0., 0., 1.]])"
      ]
     },
     "execution_count": 5,
     "metadata": {},
     "output_type": "execute_result"
    }
   ],
   "source": [
    "identity_matrix = np.eye(5)\n",
    "identity_matrix"
   ]
  },
  {
   "cell_type": "markdown",
   "metadata": {},
   "source": [
    "Create a 5*5 matrix of zeros, with 1 on the diagonal. \n",
    "Then specifically extract this diagonal"
   ]
  },
  {
   "cell_type": "code",
   "execution_count": 35,
   "metadata": {},
   "outputs": [
    {
     "data": {
      "text/plain": [
       "array([1., 1., 1., 1., 1.])"
      ]
     },
     "execution_count": 35,
     "metadata": {},
     "output_type": "execute_result"
    }
   ],
   "source": [
    "matrix = np.eye(5)\n",
    "diagonal = np.diag(matrix)\n",
    "diagonal"
   ]
  },
  {
   "cell_type": "markdown",
   "metadata": {},
   "source": [
    "Complete this NumPy line to determine if the elements of a vector are finite (not infinite or not\n",
    "a number)"
   ]
  },
  {
   "cell_type": "code",
   "execution_count": 29,
   "metadata": {},
   "outputs": [
    {
     "name": "stdout",
     "output_type": "stream",
     "text": [
      "[ True  True False False]\n"
     ]
    }
   ],
   "source": [
    "a = np.array([1, 0, np.nan, np.inf]) \n",
    "print(np.isfinite(a))"
   ]
  },
  {
   "cell_type": "markdown",
   "metadata": {},
   "source": [
    "Complete this NumPy program to test element by element if it corresponds to infinity (positive\n",
    "or negative)"
   ]
  },
  {
   "cell_type": "code",
   "execution_count": 6,
   "metadata": {},
   "outputs": [
    {
     "name": "stdout",
     "output_type": "stream",
     "text": [
      "[False False False  True]\n"
     ]
    }
   ],
   "source": [
    "x=np.array([1, 0, np.nan, np.inf])\n",
    "print(np.isinf(x))"
   ]
  },
  {
   "cell_type": "markdown",
   "metadata": {},
   "source": [
    "Complete this NumPy program to perform a comparison by element (equal, then equal to\n",
    "a certain tolerance) of two given tables"
   ]
  },
  {
   "cell_type": "code",
   "execution_count": 7,
   "metadata": {},
   "outputs": [
    {
     "name": "stdout",
     "output_type": "stream",
     "text": [
      "[ True  True  True  True  True  True False]\n"
     ]
    }
   ],
   "source": [
    "x = np.array([72, 79, -135, 120, -10, 60, 100])\n",
    "y = np.array([72, 79, -135, 120, -10, 60, 100.01])\n",
    "print(np.equal(x, y))"
   ]
  },
  {
   "cell_type": "markdown",
   "metadata": {},
   "source": [
    "**Subsetting & reshaping**"
   ]
  },
  {
   "cell_type": "markdown",
   "metadata": {},
   "source": [
    "Create an array of 7 by 7 including only real numbers chosen from a normal distribution, then select only the first row, the first column, all columns up to the third, and the element of the second column and third row"
   ]
  },
  {
   "cell_type": "code",
   "execution_count": 54,
   "metadata": {},
   "outputs": [
    {
     "data": {
      "text/plain": [
       "array([[-0.70261906, -0.23459388, -0.33345652, -0.14367654,  0.06618517,\n",
       "         1.38199265, -0.17366913],\n",
       "       [-1.21444357, -1.10162366, -0.09306072,  0.04244294,  2.00155233,\n",
       "        -0.59762866,  0.38103543],\n",
       "       [-1.18329383,  0.22922821,  0.31091505,  0.5485982 ,  0.73436872,\n",
       "        -1.82022194,  1.2553458 ],\n",
       "       [-1.11881875, -0.81133993, -0.34507981,  0.1209516 ,  1.91957401,\n",
       "        -0.27799812,  1.21912006],\n",
       "       [ 0.36338179,  0.19020285,  1.2614224 , -0.18759254,  1.7730821 ,\n",
       "         0.0908294 , -0.24807269],\n",
       "       [ 0.18012737, -0.63323532,  0.65599726,  0.62583097,  1.47250394,\n",
       "         0.27521326,  0.18322928],\n",
       "       [-0.06123912,  0.36821332, -0.27169816,  0.57594927, -0.05991418,\n",
       "        -0.60272782, -0.77281995]])"
      ]
     },
     "execution_count": 54,
     "metadata": {},
     "output_type": "execute_result"
    }
   ],
   "source": [
    "array10 = np.random.normal(size=(7, 7))\n",
    "array10\n"
   ]
  },
  {
   "cell_type": "code",
   "execution_count": null,
   "metadata": {},
   "outputs": [],
   "source": [
    "first_row = array10[0, :]\n",
    "first_row1 = array10[0]\n",
    "first_row\n",
    "first_row1\n",
    "first_column = array10[:, 0]\n",
    "all_columns_up_to_third = array10[:, :3]\n",
    "element_second_column_third_row = array10[2, 1]"
   ]
  },
  {
   "cell_type": "code",
   "execution_count": 55,
   "metadata": {},
   "outputs": [
    {
     "data": {
      "text/plain": [
       "array([-0.70261906, -0.23459388, -0.33345652, -0.14367654,  0.06618517,\n",
       "        1.38199265, -0.17366913])"
      ]
     },
     "execution_count": 55,
     "metadata": {},
     "output_type": "execute_result"
    }
   ],
   "source": [
    "first_row = array10[0, :]\n",
    "first_row"
   ]
  },
  {
   "cell_type": "code",
   "execution_count": 56,
   "metadata": {},
   "outputs": [
    {
     "data": {
      "text/plain": [
       "array([-0.70261906, -0.23459388, -0.33345652, -0.14367654,  0.06618517,\n",
       "        1.38199265, -0.17366913])"
      ]
     },
     "execution_count": 56,
     "metadata": {},
     "output_type": "execute_result"
    }
   ],
   "source": [
    "first_row1 = array10[0]\n",
    "first_row1"
   ]
  },
  {
   "cell_type": "markdown",
   "metadata": {},
   "source": [
    "Create an array that is the repetition of one 1, two 2s, and three 3s, then from this vector, create a new array including the \"unique\" values ​​(i.e., 1, 2, and 3)"
   ]
  },
  {
   "cell_type": "code",
   "execution_count": 60,
   "metadata": {},
   "outputs": [
    {
     "name": "stdout",
     "output_type": "stream",
     "text": [
      "[1 2 3]\n"
     ]
    }
   ],
   "source": [
    "x=np.array([1,1,1,1,1,1,2,2,2,2,3,3,3])\n",
    "print(np.unique(x))"
   ]
  },
  {
   "cell_type": "markdown",
   "metadata": {},
   "source": [
    "Créez un array de 5*5 comprenant des chiffres entiers choisis aléatoirement, puis réalisez une transposition de cette matrice"
   ]
  },
  {
   "cell_type": "code",
   "execution_count": 8,
   "metadata": {},
   "outputs": [
    {
     "data": {
      "text/plain": [
       "array([[-1.25962392, -0.83539519, -0.31257347,  1.23624552,  1.76676116],\n",
       "       [-0.91970656, -0.00463144,  0.8319841 , -1.29814702,  0.54091851],\n",
       "       [-0.11757629,  1.42680154, -2.14358903, -0.24176726,  1.0959716 ],\n",
       "       [ 2.21460429,  1.14170914,  0.24743736, -0.71667153,  1.27903477],\n",
       "       [ 1.14858381, -1.55154974,  2.2810598 ,  0.21410247,  0.91080075]])"
      ]
     },
     "execution_count": 8,
     "metadata": {},
     "output_type": "execute_result"
    }
   ],
   "source": [
    "x=np.random.normal(size=(5,5))\n",
    "x\n"
   ]
  },
  {
   "cell_type": "code",
   "execution_count": 9,
   "metadata": {},
   "outputs": [
    {
     "name": "stdout",
     "output_type": "stream",
     "text": [
      "[[-1.25962392 -0.91970656 -0.11757629  2.21460429  1.14858381]\n",
      " [-0.83539519 -0.00463144  1.42680154  1.14170914 -1.55154974]\n",
      " [-0.31257347  0.8319841  -2.14358903  0.24743736  2.2810598 ]\n",
      " [ 1.23624552 -1.29814702 -0.24176726 -0.71667153  0.21410247]\n",
      " [ 1.76676116  0.54091851  1.0959716   1.27903477  0.91080075]]\n"
     ]
    }
   ],
   "source": [
    "print(np.transpose(x))"
   ]
  },
  {
   "cell_type": "markdown",
   "metadata": {},
   "source": [
    "Create a vector of 25 successive integers, then use reshape to make it a 5*5 matrix. Then play with the reshape function to illustrate how it works"
   ]
  },
  {
   "cell_type": "code",
   "execution_count": 5,
   "metadata": {},
   "outputs": [
    {
     "data": {
      "text/plain": [
       "array([[ 0,  1,  2,  3,  4],\n",
       "       [ 5,  6,  7,  8,  9],\n",
       "       [10, 11, 12, 13, 14],\n",
       "       [15, 16, 17, 18, 19],\n",
       "       [20, 21, 22, 23, 24]])"
      ]
     },
     "execution_count": 5,
     "metadata": {},
     "output_type": "execute_result"
    }
   ],
   "source": [
    "\n",
    "vector1=np.arange(25)\n",
    "reshaped_matrix = vector1.reshape((5, 5))\n",
    "reshaped_matrix\n"
   ]
  },
  {
   "cell_type": "markdown",
   "metadata": {},
   "source": [
    "Make a broadcast of two arrays of your design"
   ]
  },
  {
   "cell_type": "code",
   "execution_count": 13,
   "metadata": {},
   "outputs": [
    {
     "data": {
      "text/plain": [
       "array([[5],\n",
       "       [7],\n",
       "       [9]])"
      ]
     },
     "execution_count": 13,
     "metadata": {},
     "output_type": "execute_result"
    }
   ],
   "source": [
    "array1 = np.array([[1], [2], [3]]) \n",
    "array2 = np.array([4, 5, 6]).reshape((3,1))\n",
    "array1+array2"
   ]
  },
  {
   "cell_type": "markdown",
   "metadata": {},
   "source": [
    "Illustrate “type casting” by changing the data type contained in an array of your choice"
   ]
  },
  {
   "cell_type": "code",
   "execution_count": 14,
   "metadata": {},
   "outputs": [
    {
     "data": {
      "text/plain": [
       "dtype('int32')"
      ]
     },
     "execution_count": 14,
     "metadata": {},
     "output_type": "execute_result"
    }
   ],
   "source": [
    "array10= np.array([1, 2, 3, 4, 5])\n",
    "array10.dtype"
   ]
  },
  {
   "cell_type": "code",
   "execution_count": 16,
   "metadata": {},
   "outputs": [
    {
     "data": {
      "text/plain": [
       "array([1., 2., 3., 4., 5.], dtype=float32)"
      ]
     },
     "execution_count": 16,
     "metadata": {},
     "output_type": "execute_result"
    }
   ],
   "source": [
    "array10.astype(np.float32)\n"
   ]
  },
  {
   "cell_type": "code",
   "execution_count": 19,
   "metadata": {},
   "outputs": [
    {
     "name": "stdout",
     "output_type": "stream",
     "text": [
      "['1' '2' '2' '5' 'ecem' 'True']\n"
     ]
    }
   ],
   "source": [
    "print(np.array([1,2,2,5,\"ecem\",True],dtype=str))\n"
   ]
  },
  {
   "cell_type": "code",
   "execution_count": 20,
   "metadata": {},
   "outputs": [
    {
     "name": "stdout",
     "output_type": "stream",
     "text": [
      "[1. 2. 0. 5. 1.]\n"
     ]
    }
   ],
   "source": [
    "print(np.array([1,2,0.2,5,True],dtype=np.int64).astype(np.float64))"
   ]
  },
  {
   "cell_type": "markdown",
   "metadata": {},
   "source": [
    "Create a 4*4 array including integers, which you will cut in half using vsplit"
   ]
  },
  {
   "cell_type": "code",
   "execution_count": 21,
   "metadata": {},
   "outputs": [
    {
     "name": "stdout",
     "output_type": "stream",
     "text": [
      "[array([[1, 2, 3, 4],\n",
      "       [5, 6, 7, 8]]), array([[ 9, 10, 11, 12],\n",
      "       [13, 14, 15, 16]])]\n"
     ]
    }
   ],
   "source": [
    "array12 = np.array([[1, 2, 3, 4],\n",
    "                           [5, 6, 7, 8],\n",
    "                           [9, 10, 11, 12],\n",
    "                           [13, 14, 15, 16]])\n",
    "print(np.vsplit(array12, 2))"
   ]
  },
  {
   "cell_type": "markdown",
   "metadata": {},
   "source": [
    "Create a 4*4 array of integers, which you \"unfold\" into a 1D vector using the reshape command. You will then use the shuffle and permutation commands to mix these numbers"
   ]
  },
  {
   "cell_type": "code",
   "execution_count": 25,
   "metadata": {},
   "outputs": [
    {
     "data": {
      "text/plain": [
       "array([ 1,  2,  3,  4,  5,  6,  7,  8,  9, 10, 11, 12, 13, 14, 15, 16])"
      ]
     },
     "execution_count": 25,
     "metadata": {},
     "output_type": "execute_result"
    }
   ],
   "source": [
    "vector13 = np.array([[1, 2, 3, 4],\n",
    "                           [5, 6, 7, 8],\n",
    "                           [9, 10, 11, 12],\n",
    "                           [13, 14, 15, 16]])\n",
    "x=vector13.reshape(-1)\n",
    "x"
   ]
  },
  {
   "cell_type": "code",
   "execution_count": 26,
   "metadata": {},
   "outputs": [
    {
     "name": "stdout",
     "output_type": "stream",
     "text": [
      "None\n"
     ]
    }
   ],
   "source": [
    "print(np.random.shuffle(x))"
   ]
  },
  {
   "cell_type": "code",
   "execution_count": 24,
   "metadata": {},
   "outputs": [
    {
     "name": "stdout",
     "output_type": "stream",
     "text": [
      "[[13 14 15 16]\n",
      " [ 1  2  3  4]\n",
      " [ 9 10 11 12]\n",
      " [ 5  6  7  8]]\n"
     ]
    }
   ],
   "source": [
    "print(np.random.permutation(x))"
   ]
  },
  {
   "cell_type": "markdown",
   "metadata": {},
   "source": [
    "Merge a 3*3 matrix made of integers, with a vector of three elements, once horizontally, and once vertically"
   ]
  },
  {
   "cell_type": "code",
   "execution_count": 29,
   "metadata": {},
   "outputs": [
    {
     "name": "stdout",
     "output_type": "stream",
     "text": [
      "[[ 1  2  3]\n",
      " [ 4  5  6]\n",
      " [ 7  8  9]\n",
      " [10 11 12]]\n"
     ]
    }
   ],
   "source": [
    "c1=np.array([[1, 2, 3],\n",
    "            [4, 5, 6],\n",
    "           [7, 8, 9]])\n",
    "c2=np.array([10, 11, 12])\n",
    "c3=c2.reshape((3,1))\n",
    "c4=c2.reshape((1,3))\n",
    "print(np.concatenate((c1,c4),axis=0))\n"
   ]
  },
  {
   "cell_type": "code",
   "execution_count": 28,
   "metadata": {},
   "outputs": [
    {
     "name": "stdout",
     "output_type": "stream",
     "text": [
      "[[ 1  2  3 10]\n",
      " [ 4  5  6 11]\n",
      " [ 7  8  9 12]]\n"
     ]
    }
   ],
   "source": [
    "print(np.concatenate((c1,c3),axis=1))"
   ]
  },
  {
   "cell_type": "markdown",
   "metadata": {},
   "source": [
    "Demonstrate your mastery and understanding of the resize command, then the argsort command. Make comments"
   ]
  },
  {
   "cell_type": "code",
   "execution_count": 34,
   "metadata": {},
   "outputs": [
    {
     "data": {
      "text/plain": [
       "array([[1, 2, 3],\n",
       "       [4, 5, 1]])"
      ]
     },
     "execution_count": 34,
     "metadata": {},
     "output_type": "execute_result"
    }
   ],
   "source": [
    "ar5 = np.array([1, 2, 3, 4, 5])\n",
    "x20=np.resize(ar5,(2,3)) # i passed  Array to be resized as the first argument and Shape of resized array as the second argument within the tuple\n",
    "x20 # Resize the array to a new shape  reshape to a 2x3 matrix\n"
   ]
  },
  {
   "cell_type": "code",
   "execution_count": 35,
   "metadata": {},
   "outputs": [
    {
     "name": "stdout",
     "output_type": "stream",
     "text": [
      "[0 1 2 3 4]\n"
     ]
    }
   ],
   "source": [
    "print(np.argsort(ar5))\n",
    "# Get the indices that would sort the array\n",
    "# Print the  array"
   ]
  },
  {
   "cell_type": "markdown",
   "metadata": {},
   "source": [
    "Write a NumPy program to get the n largest values ​​of an array, use np.partition and play with both positive and negative values ​​of n, the second argument of the function, before explaining in your words what is happening. pass"
   ]
  },
  {
   "cell_type": "code",
   "execution_count": 57,
   "metadata": {},
   "outputs": [
    {
     "data": {
      "text/plain": [
       "array([ 1,  0,  2,  4,  5,  9, 78, 34])"
      ]
     },
     "execution_count": 57,
     "metadata": {},
     "output_type": "execute_result"
    }
   ],
   "source": [
    "arr25= np.array([2, 0, 1, 5, 4, 9, 78, 34])  # Create an array\n",
    "p = np.partition(arr25, 3) #all the elements less than the element at 5th position which is 5 are placed to the left side of 5 and all the elements greater than 5 are placed to the right of the separator element \n",
    "p\n",
    "\n"
   ]
  },
  {
   "cell_type": "code",
   "execution_count": 59,
   "metadata": {},
   "outputs": [
    {
     "name": "stdout",
     "output_type": "stream",
     "text": [
      "[ 0  1  2  4  5  9 78 34]\n"
     ]
    }
   ],
   "source": [
    "print(np.partition(arr25, (1, 3))) #The elements less than the element at index 1  are placed to the left, the elements between the elements at indices 1 and 3 are in some order in the middle, and the elements greater than or equal to the element at index 3 are placed to the right."
   ]
  },
  {
   "cell_type": "markdown",
   "metadata": {},
   "source": [
    "Sort a 2*2 array, on the one hand before having flattened it, and on the other hand after having flattened it"
   ]
  },
  {
   "cell_type": "code",
   "execution_count": 43,
   "metadata": {},
   "outputs": [
    {
     "name": "stdout",
     "output_type": "stream",
     "text": [
      "[[ 1  1]\n",
      " [ 2 10]]\n",
      "[ 2  1  1 10]\n"
     ]
    },
    {
     "data": {
      "text/plain": [
       "array([ 2,  1,  1, 10])"
      ]
     },
     "execution_count": 43,
     "metadata": {},
     "output_type": "execute_result"
    }
   ],
   "source": [
    "ar21 = np.array([[2, 1],\n",
    "                [1, 10]])\n",
    "print(np.sort(ar21, axis=0))  # sorted by x axis\n",
    "print(ar21.flatten())\n",
    "y=ar21.flatten()\n",
    "y\n"
   ]
  },
  {
   "cell_type": "code",
   "execution_count": 45,
   "metadata": {},
   "outputs": [
    {
     "name": "stdout",
     "output_type": "stream",
     "text": [
      "[ 1  1  2 10]\n"
     ]
    }
   ],
   "source": [
    "print(np.sort(y, axis=0)) # sorted by y axis after having flattened it"
   ]
  },
  {
   "cell_type": "markdown",
   "metadata": {},
   "source": [
    "Produce a 1D array of the size of your choice, containing a random number of 2 between 5 and 10. Count the number of times the value 2 is repeated in the array."
   ]
  },
  {
   "cell_type": "code",
   "execution_count": 13,
   "metadata": {},
   "outputs": [
    {
     "data": {
      "text/plain": [
       "array([ 8,  5,  9,  9,  6, 10,  5,  3,  7,  6])"
      ]
     },
     "execution_count": 13,
     "metadata": {},
     "output_type": "execute_result"
    }
   ],
   "source": [
    "arr30 = np.random.randint(2, 11,size=10)\n",
    "arr30"
   ]
  },
  {
   "cell_type": "code",
   "execution_count": 12,
   "metadata": {},
   "outputs": [
    {
     "data": {
      "text/plain": [
       "1"
      ]
     },
     "execution_count": 12,
     "metadata": {},
     "output_type": "execute_result"
    }
   ],
   "source": [
    "c63 = np.count_nonzero(arr30 == 2)\n",
    "c63"
   ]
  },
  {
   "cell_type": "markdown",
   "metadata": {},
   "source": [
    "Create an integer vector of size 30 with numbers between 1 and 12. Then use np.isin to check if the numbers 4, 6 and 7 appeared in the sequence"
   ]
  },
  {
   "cell_type": "code",
   "execution_count": 73,
   "metadata": {},
   "outputs": [
    {
     "name": "stdout",
     "output_type": "stream",
     "text": [
      "[ True False  True]\n"
     ]
    }
   ],
   "source": [
    "x50=np.random.randint(1,13,size=30)\n",
    "print(np.isin([4,6,7],x50))"
   ]
  },
  {
   "cell_type": "markdown",
   "metadata": {},
   "source": [
    "**np.where**"
   ]
  },
  {
   "cell_type": "markdown",
   "metadata": {},
   "source": [
    "Create an integer vector of size 30 with numbers between 1 and 12, then use the np.where function to identify indexes of numbers greater than 6"
   ]
  },
  {
   "cell_type": "code",
   "execution_count": 76,
   "metadata": {},
   "outputs": [
    {
     "name": "stdout",
     "output_type": "stream",
     "text": [
      "(array([ 1,  2,  5,  6,  7, 10, 11, 21, 22, 23, 25, 27, 29], dtype=int64),)\n"
     ]
    }
   ],
   "source": [
    "x60=np.random.randint(1,13,size=30)\n",
    "print(np.where(x60>6))\n"
   ]
  },
  {
   "cell_type": "markdown",
   "metadata": {},
   "source": [
    "**Données manquantes**"
   ]
  },
  {
   "cell_type": "markdown",
   "metadata": {},
   "source": [
    "Create an array of 3 * 3 and introduce a missing value at index [0,0], via np.nan"
   ]
  },
  {
   "cell_type": "code",
   "execution_count": 78,
   "metadata": {},
   "outputs": [
    {
     "data": {
      "text/plain": [
       "array([[0.49031848, 0.7679152 , 0.59865536],\n",
       "       [0.82756082, 0.91446682, 0.65425933],\n",
       "       [0.54489694, 0.78229812, 0.46177637]])"
      ]
     },
     "execution_count": 78,
     "metadata": {},
     "output_type": "execute_result"
    }
   ],
   "source": [
    "c99 = np.random.random((3, 3))\n",
    "c99"
   ]
  },
  {
   "cell_type": "code",
   "execution_count": 79,
   "metadata": {},
   "outputs": [
    {
     "data": {
      "text/plain": [
       "array([[       nan, 0.7679152 , 0.59865536],\n",
       "       [0.82756082, 0.91446682, 0.65425933],\n",
       "       [0.54489694, 0.78229812, 0.46177637]])"
      ]
     },
     "execution_count": 79,
     "metadata": {},
     "output_type": "execute_result"
    }
   ],
   "source": [
    "c99[0, 0] = np.nan\n",
    "c99"
   ]
  },
  {
   "cell_type": "markdown",
   "metadata": {},
   "source": [
    "Transform this missing value into zero using np.fillna"
   ]
  },
  {
   "cell_type": "code",
   "execution_count": 80,
   "metadata": {},
   "outputs": [
    {
     "name": "stdout",
     "output_type": "stream",
     "text": [
      "[[0.         0.7679152  0.59865536]\n",
      " [0.82756082 0.91446682 0.65425933]\n",
      " [0.54489694 0.78229812 0.46177637]]\n"
     ]
    }
   ],
   "source": [
    "print(np.nan_to_num(c99))"
   ]
  },
  {
   "cell_type": "markdown",
   "metadata": {},
   "source": [
    "You have two sets of integers: A = {1, 2, 3, 4, 5} and B = {3, 4, 5, 6, 7}. Write a program in Python using the appropriate function to find the union of these two sets and return the result."
   ]
  },
  {
   "cell_type": "code",
   "execution_count": 15,
   "metadata": {},
   "outputs": [
    {
     "name": "stdout",
     "output_type": "stream",
     "text": [
      "{1, 2, 3, 4, 5, 6, 7}\n"
     ]
    }
   ],
   "source": [
    "A= {1, 2, 3, 4, 5}\n",
    "B = {3, 4, 5, 6, 7}\n",
    "result95=A.union(B)\n",
    "print(result95)"
   ]
  },
  {
   "cell_type": "markdown",
   "metadata": {},
   "source": [
    "You have two sets of integers: A = {1, 2, 3, 4, 5} and B = {3, 4, 5, 6, 7}. Write a program in Python using the appropriate function to find the intersection of these two sets and return the result"
   ]
  },
  {
   "cell_type": "code",
   "execution_count": 1,
   "metadata": {},
   "outputs": [
    {
     "name": "stdout",
     "output_type": "stream",
     "text": [
      "Intersection of sets A and B: {3, 4, 5}\n"
     ]
    }
   ],
   "source": [
    "A = {1, 2, 3, 4, 5}\n",
    "B = {3, 4, 5, 6, 7}\n",
    "result = A.intersection(B)\n",
    "print(\"Intersection of sets A and B:\", result)"
   ]
  },
  {
   "cell_type": "markdown",
   "metadata": {},
   "source": [
    "You have a set of integer values ​​= {2, 4, 6}, and a NumPy array = [1, 2, 3, 4, 5]. Write a program in Python using np.in1d ​​to check if each element in array belongs to the set values. The program must return an array of booleans indicating the membership of each element"
   ]
  },
  {
   "cell_type": "code",
   "execution_count": 14,
   "metadata": {},
   "outputs": [
    {
     "name": "stdout",
     "output_type": "stream",
     "text": [
      "[False  True False  True False]\n"
     ]
    }
   ],
   "source": [
    "v1={2,4,6}\n",
    "ar1=np.array([1,2,3,4,5])\n",
    "c45=np.in1d(ar1,list(v1))\n",
    "print(c45)\n",
    "\n"
   ]
  },
  {
   "cell_type": "markdown",
   "metadata": {},
   "source": [
    "You have two sets of integers: A = {1, 2, 3, 4, 5} and B = {3, 4, 5, 6, 7}. Write a program in Python using np.setdiff1d to find elements that are in A but not in B, then return the result."
   ]
  },
  {
   "cell_type": "code",
   "execution_count": 6,
   "metadata": {},
   "outputs": [
    {
     "name": "stdout",
     "output_type": "stream",
     "text": [
      "[1 2]\n"
     ]
    }
   ],
   "source": [
    "import numpy as np\n",
    "A = [1, 2, 3, 4, 5]\n",
    "B = [3, 4, 5, 6, 7]\n",
    "array125=np.array(A)\n",
    "array126=np.array(B)\n",
    "result = np.setdiff1d(array125, array126)\n",
    "print(result)\n"
   ]
  },
  {
   "cell_type": "markdown",
   "metadata": {},
   "source": [
    "Write a function that takes a NumPy array as input and returns a new array containing the differences between consecutive elements of the input array. For example, if the input is [1, 3, 7, 11], the result should be [2, 4, 4]."
   ]
  },
  {
   "cell_type": "code",
   "execution_count": 8,
   "metadata": {},
   "outputs": [],
   "source": [
    "def return_new_array (array58):\n",
    "    result21=np.diff(array58)\n",
    "    return result21"
   ]
  },
  {
   "cell_type": "code",
   "execution_count": 9,
   "metadata": {},
   "outputs": [
    {
     "data": {
      "text/plain": [
       "array([1, 1, 1, 1, 1])"
      ]
     },
     "execution_count": 9,
     "metadata": {},
     "output_type": "execute_result"
    }
   ],
   "source": [
    "input21=np.array([1,2,3,4,5,6])\n",
    "return_new_array(input21)\n"
   ]
  },
  {
   "cell_type": "markdown",
   "metadata": {},
   "source": [
    "**Calculus with NumPy**"
   ]
  },
  {
   "cell_type": "markdown",
   "metadata": {},
   "source": [
    "Create a matrix of 4*4 real numbers, both negative and positive, then calculate for each row the sum, average, and cumulative sum"
   ]
  },
  {
   "cell_type": "code",
   "execution_count": 84,
   "metadata": {},
   "outputs": [
    {
     "data": {
      "text/plain": [
       "array([[ 1,  2, -3,  4],\n",
       "       [ 1,  2,  3, -4],\n",
       "       [-1,  2,  3,  4],\n",
       "       [ 1, -2,  3,  4]])"
      ]
     },
     "execution_count": 84,
     "metadata": {},
     "output_type": "execute_result"
    }
   ],
   "source": [
    "x37=np.array([[1,2,-3,4],\n",
    "            [1,2,3,-4],\n",
    "            [-1,2,3,4],\n",
    "            [1,-2,3,4]])\n",
    "x37"
   ]
  },
  {
   "cell_type": "code",
   "execution_count": 86,
   "metadata": {},
   "outputs": [
    {
     "name": "stdout",
     "output_type": "stream",
     "text": [
      "[4 2 8 6]\n",
      "[1.  0.5 2.  1.5]\n",
      "[[ 1  3  0  4]\n",
      " [ 1  3  6  2]\n",
      " [-1  1  4  8]\n",
      " [ 1 -1  2  6]]\n"
     ]
    }
   ],
   "source": [
    "print(np.sum(x37, axis=1))\n",
    "print(np.mean(x37, axis=1))\n",
    "print(np.cumsum(x37, axis=1))\n"
   ]
  },
  {
   "cell_type": "markdown",
   "metadata": {},
   "source": [
    "Repeat the previous operation by averaging the absolute values ​​of the numbers, then the minimum value and the maximum value; you will finally create a last column using the maximum value with the np.round function"
   ]
  },
  {
   "cell_type": "code",
   "execution_count": 89,
   "metadata": {},
   "outputs": [
    {
     "name": "stdout",
     "output_type": "stream",
     "text": [
      "[2.5 2.5 2.5 2.5]\n",
      "[-3 -4 -1 -2]\n",
      "[4 3 4 4]\n",
      "[4 3 4 4]\n"
     ]
    }
   ],
   "source": [
    "print(np.mean(np.abs(x37), axis=1))\n",
    "print(np.min(x37, axis=1))\n",
    "print(np.max(x37, axis=1))\n",
    "print(np.round(np.max(x37, axis=1)))"
   ]
  },
  {
   "cell_type": "markdown",
   "metadata": {},
   "source": [
    "Place 10 points randomly on a plane, then calculate the distance vectors between these different points. How many distance calculations do you do? Visualize points with matplotlib"
   ]
  },
  {
   "cell_type": "code",
   "execution_count": null,
   "metadata": {},
   "outputs": [],
   "source": []
  },
  {
   "cell_type": "markdown",
   "metadata": {},
   "source": [
    "Now visualize these distances on the plan, still with matplotlib"
   ]
  },
  {
   "cell_type": "code",
   "execution_count": null,
   "metadata": {},
   "outputs": [],
   "source": []
  },
  {
   "cell_type": "markdown",
   "metadata": {},
   "source": [
    "Create a list of randomly generated integers, and use np.mod (for modulo) to identify indexes of even numbers"
   ]
  },
  {
   "cell_type": "code",
   "execution_count": null,
   "metadata": {},
   "outputs": [],
   "source": []
  },
  {
   "cell_type": "markdown",
   "metadata": {},
   "source": [
    "**Fonctions universelles**"
   ]
  },
  {
   "cell_type": "markdown",
   "metadata": {},
   "source": [
    "Take the vector {3,4,6,9} and use the add and multiply functions"
   ]
  },
  {
   "cell_type": "code",
   "execution_count": 90,
   "metadata": {},
   "outputs": [
    {
     "name": "stdout",
     "output_type": "stream",
     "text": [
      "[1 2 4 7]\n",
      "[-3 -4 -6 -9]\n"
     ]
    }
   ],
   "source": [
    "v42= np.array([3, 4, 6, 9])\n",
    "print(np.add(v42, -2))\n",
    "print(np.multiply(v42, -1))\n"
   ]
  },
  {
   "cell_type": "markdown",
   "metadata": {},
   "source": [
    "Use multiply.outer on two vectors, and explain the nature of the corresponding operations"
   ]
  },
  {
   "cell_type": "code",
   "execution_count": 91,
   "metadata": {},
   "outputs": [
    {
     "name": "stdout",
     "output_type": "stream",
     "text": [
      "[[ 4  5  6]\n",
      " [ 8 10 12]\n",
      " [12 15 18]]\n"
     ]
    }
   ],
   "source": [
    "v52 = np.array([1, 2, 3])\n",
    "v53 = np.array([4, 5, 6])\n",
    "print(np.multiply.outer(v52, v53))\n",
    "#1*4 1*5 1*6\n",
    "#2*4 2*5 2*6\n",
    "#3*4 3*5 3*6 \n",
    "# The resulting matrix has dimensions 3*3"
   ]
  },
  {
   "cell_type": "markdown",
   "metadata": {},
   "source": [
    "Apply the negative function to the array [2,3,5]"
   ]
  },
  {
   "cell_type": "code",
   "execution_count": 92,
   "metadata": {},
   "outputs": [
    {
     "name": "stdout",
     "output_type": "stream",
     "text": [
      "[1 2 3]\n"
     ]
    }
   ],
   "source": [
    "arr85 = np.array([-1, -2, -3])\n",
    "print(np.negative(arr85))\n"
   ]
  },
  {
   "cell_type": "markdown",
   "metadata": {},
   "source": [
    "**Numpy and strings**"
   ]
  },
  {
   "cell_type": "markdown",
   "metadata": {},
   "source": [
    "Merge two arrays each comprising two strings, using the np.char.add function"
   ]
  },
  {
   "cell_type": "code",
   "execution_count": 94,
   "metadata": {},
   "outputs": [
    {
     "name": "stdout",
     "output_type": "stream",
     "text": [
      "['ecem, ' 'guvenhi']\n"
     ]
    },
    {
     "data": {
      "text/plain": [
       "array(['ecem', 'guven'], dtype='<U5')"
      ]
     },
     "execution_count": 94,
     "metadata": {},
     "output_type": "execute_result"
    }
   ],
   "source": [
    "arr63 = np.array(['ecem', 'guven'])\n",
    "arr64 = np.array([', ', 'hi'])\n",
    "print(np.char.add(arr63, arr64))\n"
   ]
  },
  {
   "cell_type": "markdown",
   "metadata": {},
   "source": [
    "Use the np.char.join function to insert the symbol \";\" into a 5-character string. between each letter"
   ]
  },
  {
   "cell_type": "code",
   "execution_count": 95,
   "metadata": {},
   "outputs": [
    {
     "name": "stdout",
     "output_type": "stream",
     "text": [
      "['E,C,E,M,X']\n"
     ]
    }
   ],
   "source": [
    "arr95 = np.array(['ECEMX'])\n",
    "print(np.char.join(',', arr95))"
   ]
  },
  {
   "cell_type": "markdown",
   "metadata": {},
   "source": [
    "Use the np.char.upper function on the character string of your choice"
   ]
  },
  {
   "cell_type": "code",
   "execution_count": 96,
   "metadata": {},
   "outputs": [
    {
     "name": "stdout",
     "output_type": "stream",
     "text": [
      "['ECEM']\n"
     ]
    }
   ],
   "source": [
    "arr96 = np.array(['ecem'])\n",
    "print(np.char.upper(arr96))"
   ]
  },
  {
   "cell_type": "markdown",
   "metadata": {},
   "source": [
    "Use np.char.replace to demonstrate how to replace one string (in a sentence) with another"
   ]
  },
  {
   "cell_type": "code",
   "execution_count": 97,
   "metadata": {},
   "outputs": [
    {
     "name": "stdout",
     "output_type": "stream",
     "text": [
      "['icim']\n"
     ]
    }
   ],
   "source": [
    "arr97 = np.array(['ecem'])\n",
    "print(np.char.replace(arr97, 'e', 'i'))"
   ]
  },
  {
   "cell_type": "markdown",
   "metadata": {},
   "source": [
    "Use np.char.split to split an array containing two sentences into as many elements as there are words in them"
   ]
  },
  {
   "cell_type": "code",
   "execution_count": 98,
   "metadata": {},
   "outputs": [
    {
     "name": "stdout",
     "output_type": "stream",
     "text": [
      "[list(['ecem']) list(['guven']) list(['ayse']) list(['gefe'])]\n"
     ]
    }
   ],
   "source": [
    "arr98 = np.array(['ecem',\"guven\",\"ayse\",\"gefe\"])\n",
    "print( np.char.split(arr98))"
   ]
  },
  {
   "cell_type": "markdown",
   "metadata": {},
   "source": [
    "Create an array containing three strings including a repeated pattern, common to the three elements. Use np.char.count to count the number of times this pattern is repeated"
   ]
  },
  {
   "cell_type": "code",
   "execution_count": 99,
   "metadata": {},
   "outputs": [
    {
     "name": "stdout",
     "output_type": "stream",
     "text": [
      "[7]\n"
     ]
    }
   ],
   "source": [
    "arr99 = np.array(['ecmecmecmecmecmecmecmmcemcemcemce'])\n",
    "print(np.char.count(arr99,\"ecm\" ))"
   ]
  },
  {
   "cell_type": "markdown",
   "metadata": {},
   "source": [
    "Modify an array of length 5 by inserting elements, then removing some"
   ]
  },
  {
   "cell_type": "code",
   "execution_count": 102,
   "metadata": {},
   "outputs": [
    {
     "name": "stdout",
     "output_type": "stream",
     "text": [
      "[1 2 4 5]\n",
      "[ 1 10 20  2  3  4  5]\n"
     ]
    }
   ],
   "source": [
    "arr48 = np.array([1, 2, 3, 4, 5])\n",
    "print(np.delete(arr48,2))\n",
    "print(np.insert(arr48,1,np.array([10, 20])))"
   ]
  },
  {
   "cell_type": "markdown",
   "metadata": {},
   "source": [
    "Write a NumPy program to add a border (padded with 0s) around an existing array. You need two layers of zeros all around"
   ]
  },
  {
   "cell_type": "code",
   "execution_count": 105,
   "metadata": {},
   "outputs": [
    {
     "data": {
      "text/plain": [
       "array([[2, 8, 4],\n",
       "       [7, 4, 7],\n",
       "       [8, 6, 3]])"
      ]
     },
     "execution_count": 105,
     "metadata": {},
     "output_type": "execute_result"
    }
   ],
   "source": [
    "x58=np.random.randint(2,10,size=(3,3))\n",
    "x58"
   ]
  },
  {
   "cell_type": "code",
   "execution_count": 106,
   "metadata": {},
   "outputs": [
    {
     "name": "stdout",
     "output_type": "stream",
     "text": [
      "[[0 0 0 0 0 0 0]\n",
      " [0 0 0 0 0 0 0]\n",
      " [0 0 2 8 4 0 0]\n",
      " [0 0 7 4 7 0 0]\n",
      " [0 0 8 6 3 0 0]\n",
      " [0 0 0 0 0 0 0]\n",
      " [0 0 0 0 0 0 0]]\n"
     ]
    }
   ],
   "source": [
    "print(np.pad(x58, pad_width=2, mode='constant', constant_values=0))"
   ]
  },
  {
   "cell_type": "markdown",
   "metadata": {},
   "source": [
    "Write a NumPy program to create a 5x5 array with random values ​​and normalize it by row"
   ]
  },
  {
   "cell_type": "code",
   "execution_count": 107,
   "metadata": {},
   "outputs": [
    {
     "data": {
      "text/plain": [
       "array([[0.00673   , 0.69891177, 0.31618941, 0.14913454, 0.09608347],\n",
       "       [0.29722556, 0.94528375, 0.37225799, 0.40697574, 0.8860671 ],\n",
       "       [0.43018891, 0.8175924 , 0.07587659, 0.3777699 , 0.86679357],\n",
       "       [0.83594239, 0.13475924, 0.89582989, 0.69757992, 0.3234479 ],\n",
       "       [0.76333109, 0.77754736, 0.4717447 , 0.39126636, 0.4365455 ]])"
      ]
     },
     "execution_count": 107,
     "metadata": {},
     "output_type": "execute_result"
    }
   ],
   "source": [
    "x51=np.random.random((5,5))\n",
    "x51"
   ]
  },
  {
   "cell_type": "code",
   "execution_count": 111,
   "metadata": {},
   "outputs": [
    {
     "name": "stdout",
     "output_type": "stream",
     "text": [
      "[[-1.00893598  1.82213079  0.25677237 -0.4264925  -0.64347468]\n",
      " [-1.03118972  1.3190925  -0.75907315 -0.6331639   1.10433427]\n",
      " [-0.28321179  1.03146982 -1.48559612 -0.46109945  1.19843755]\n",
      " [ 0.86810907 -1.48727624  1.06928067  0.40332761 -0.85344111]\n",
      " [ 1.16745536  1.2524611  -0.57607551 -1.05729302 -0.78654793]]\n"
     ]
    }
   ],
   "source": [
    "print((x51 - x51.mean(axis=1, keepdims=True)) / x51.std(axis=1, keepdims=True))"
   ]
  },
  {
   "cell_type": "markdown",
   "metadata": {},
   "source": [
    "**Pour aller plus loin que la simple maîtrise des fonctions Numpy** (ChatGPT interdit)"
   ]
  },
  {
   "cell_type": "markdown",
   "metadata": {},
   "source": [
    "Nous vous proposons quelques exercices de programmation, pour aller au-delà de la simple connaissance de fonctions"
   ]
  },
  {
   "cell_type": "markdown",
   "metadata": {},
   "source": [
    "*Exercice 1*"
   ]
  },
  {
   "cell_type": "markdown",
   "metadata": {},
   "source": [
    "Si le produit de deux nombres entiers est égal ou inférieur à 1 000, renvoyez le produit ; sinon, renvoyez leur somme. Nous attendons de vous que vous construisiez une fonction. numéro1 = 20,\n",
    "nombre2 = 30, la sortie est 600"
   ]
  },
  {
   "cell_type": "code",
   "execution_count": 112,
   "metadata": {},
   "outputs": [],
   "source": [
    "number1 = 20\n",
    "number2 = 30\n",
    "def product (number1,number2):\n",
    "     product = number1 * number2\n",
    "     if product <= 1000:\n",
    "        return product\n",
    "     else :\n",
    "        return number1 + number2\n"
   ]
  },
  {
   "cell_type": "code",
   "execution_count": 113,
   "metadata": {},
   "outputs": [
    {
     "data": {
      "text/plain": [
       "110"
      ]
     },
     "execution_count": 113,
     "metadata": {},
     "output_type": "execute_result"
    }
   ],
   "source": [
    "x=product(50,60)\n",
    "x"
   ]
  },
  {
   "cell_type": "markdown",
   "metadata": {},
   "source": [
    "*Exercice 2*"
   ]
  },
  {
   "cell_type": "markdown",
   "metadata": {},
   "source": [
    "Créez un programme qui invite l'utilisateur à saisir une chaîne, puis affiche\n",
    "les caractères situés à des positions d'index paires. Par exemple, si la chaîne est\n",
    "\"exemple\", le programme doit afficher les caractères \"x\", \"m\", \"l\"."
   ]
  },
  {
   "cell_type": "code",
   "execution_count": 154,
   "metadata": {},
   "outputs": [
    {
     "name": "stdout",
     "output_type": "stream",
     "text": [
      "v\n",
      "n\n"
     ]
    }
   ],
   "source": [
    "name=input('enter your name')\n",
    "def even_numbers(name):\n",
    "    for char in name :\n",
    "        if ord(char) % 2 == 0 :\n",
    "         print(char)\n",
    "even_numbers(name)\n",
    "\n",
    "\n"
   ]
  },
  {
   "cell_type": "markdown",
   "metadata": {},
   "source": [
    "*Exercice 3*"
   ]
  },
  {
   "cell_type": "markdown",
   "metadata": {},
   "source": [
    "Créez un programme qui prend une chaîne en entrée et supprime les caractères de\n",
    "le début de la chaîne jusqu'à un index spécifié, ce qui donne une nouvelle chaîne.\n",
    "Par exemple, si nous appelons la fonction remove chars(”example”, 3), la sortie\n",
    "devrait être « mple ». Notez que l'index spécifié, noté 'n', doit être inférieur à la longueur de\n",
    "la chaîne."
   ]
  },
  {
   "cell_type": "code",
   "execution_count": 172,
   "metadata": {},
   "outputs": [],
   "source": [
    "def remove_chars(stringname, index):\n",
    "    if index < len(stringname):\n",
    "        result_str = stringname[index:]\n",
    "        return result_str"
   ]
  },
  {
   "cell_type": "code",
   "execution_count": 173,
   "metadata": {},
   "outputs": [
    {
     "data": {
      "text/plain": [
       "'mple'"
      ]
     },
     "execution_count": 173,
     "metadata": {},
     "output_type": "execute_result"
    }
   ],
   "source": [
    "stringname = \"example\"\n",
    "index= 3\n",
    "remove_chars(stringname, index)"
   ]
  },
  {
   "cell_type": "markdown",
   "metadata": {},
   "source": [
    "*Exercice 4*"
   ]
  },
  {
   "cell_type": "markdown",
   "metadata": {},
   "source": [
    "Itérer la liste de nombres donnée et imprimer uniquement les nombres divisibles\n",
    "par 5:  la liste donnée est [10, 20, 33, 46, 55] Divisible par 5 : 10, 20, 55"
   ]
  },
  {
   "cell_type": "code",
   "execution_count": 142,
   "metadata": {},
   "outputs": [
    {
     "name": "stdout",
     "output_type": "stream",
     "text": [
      "Divisible by 5: 10\n",
      "Divisible by 5: 20\n",
      "Divisible by 5: 55\n"
     ]
    }
   ],
   "source": [
    "list1=[10, 20, 33, 46, 55] \n",
    "for i in list1:\n",
    "    if i %5 == 0 :\n",
    "     print(\"Divisible by 5:\",i)\n",
    "\n",
    "\n"
   ]
  },
  {
   "cell_type": "markdown",
   "metadata": {},
   "source": [
    "*Exercice 5*"
   ]
  },
  {
   "cell_type": "markdown",
   "metadata": {},
   "source": [
    "Développer un programme qui détermine le nombre d'occurrences de la sous-chaîne\n",
    "\"Emma\" dans une chaîne donnée.\n",
    "• Donné : « Emma est une bonne développeuse. Emma est institutrice. »\n",
    "• Résultat attendu : Emma est apparue 2 fois\n",
    "Faites-le une fois avec la méthode « count » de chaîne, une fois sans."
   ]
  },
  {
   "cell_type": "code",
   "execution_count": 177,
   "metadata": {},
   "outputs": [],
   "source": [
    "counter=0\n",
    "index=0\n",
    "given = \"Emma is a good developer. Emma is a teacher.\"\n",
    "name=\"Emma\"\n",
    "while(index<len(given)):\n",
    "    if given[index:index + len(name)]==name :\n",
    "         counter+=1\n",
    "         index+=len(name)\n",
    "         \n",
    "print(\"Emma appeared 2 times\",counter) \n",
    "\n"
   ]
  },
  {
   "cell_type": "code",
   "execution_count": 160,
   "metadata": {},
   "outputs": [
    {
     "name": "stdout",
     "output_type": "stream",
     "text": [
      "2\n"
     ]
    }
   ],
   "source": [
    "given1 = \"Emma is a good developer. Emma is a teacher.\"\n",
    "print(given1.count(\"Emma\"))\n"
   ]
  },
  {
   "cell_type": "markdown",
   "metadata": {},
   "source": [
    "*Exercice 6*"
   ]
  },
  {
   "cell_type": "markdown",
   "metadata": {},
   "source": [
    "Écrivez un programme pour vérifier si le nombre donné est un nombre palindrome.\n",
    "Un nombre palindrome est un nombre qui est le même après l'inverse. Par exemple\n",
    "545, ce sont les nombres palindromes\n",
    "Production attendue:\n",
    "• numéro original 121 : Oui. le nombre donné est le numéro du palindrome\n",
    "• numéro d'origine 125 : le numéro donné n'est pas un numéro palindrome"
   ]
  },
  {
   "cell_type": "code",
   "execution_count": 144,
   "metadata": {},
   "outputs": [],
   "source": [
    "def palindrome(number) :\n",
    "    number_str=str(number)\n",
    "    if number_str == number_str[::-1]:\n",
    "        print(\"Yes. the given number is the palindrome number\")\n",
    "    else:\n",
    "        print(\"the given number is not a palindrome number\")"
   ]
  },
  {
   "cell_type": "code",
   "execution_count": 145,
   "metadata": {},
   "outputs": [
    {
     "name": "stdout",
     "output_type": "stream",
     "text": [
      "Yes. the given number is the palindrome number\n"
     ]
    }
   ],
   "source": [
    "num1 = 121\n",
    "palindrome(num1)\n"
   ]
  },
  {
   "cell_type": "markdown",
   "metadata": {},
   "source": [
    "*Exercice 7*"
   ]
  },
  {
   "cell_type": "markdown",
   "metadata": {},
   "source": [
    "Écrivez une boucle while pour afficher chaque caractère d'une chaîne et, si un caractère est\n",
    "numéro : arrêter la boucle."
   ]
  },
  {
   "cell_type": "code",
   "execution_count": 149,
   "metadata": {},
   "outputs": [
    {
     "name": "stdout",
     "output_type": "stream",
     "text": [
      "e\n",
      "c\n",
      "e\n",
      "m\n"
     ]
    }
   ],
   "source": [
    "username=input(\"enter your name\")\n",
    "i=0\n",
    "while(i<len(username)):\n",
    "    print(username[i])\n",
    "    i+=1\n",
    "\n"
   ]
  }
 ],
 "metadata": {
  "kernelspec": {
   "display_name": "Python 3",
   "language": "python",
   "name": "python3"
  },
  "language_info": {
   "codemirror_mode": {
    "name": "ipython",
    "version": 3
   },
   "file_extension": ".py",
   "mimetype": "text/x-python",
   "name": "python",
   "nbconvert_exporter": "python",
   "pygments_lexer": "ipython3",
   "version": "3.11.5"
  }
 },
 "nbformat": 4,
 "nbformat_minor": 2
}
